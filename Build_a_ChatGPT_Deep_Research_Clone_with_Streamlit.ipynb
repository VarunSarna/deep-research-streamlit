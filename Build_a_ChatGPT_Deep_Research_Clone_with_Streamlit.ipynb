{
  "nbformat": 4,
  "nbformat_minor": 0,
  "metadata": {
    "colab": {
      "provenance": []
    },
    "kernelspec": {
      "name": "python3",
      "display_name": "Python 3"
    },
    "language_info": {
      "name": "python"
    }
  },
  "cells": [
    {
      "cell_type": "code",
      "source": [
        "from openai import OpenAI\n",
        "import os, json, itertools\n",
        "from IPython.display import display, Markdown\n",
        "\n"
      ],
      "metadata": {
        "id": "Fk49nkXmm6SG"
      },
      "execution_count": 1,
      "outputs": []
    },
    {
      "cell_type": "code",
      "source": [
        "from google.colab import userdata\n",
        "openai_api_key = userdata.get('OpenAIChatGptFirstKey')"
      ],
      "metadata": {
        "id": "WXhxQqVSnXMD"
      },
      "execution_count": 2,
      "outputs": []
    },
    {
      "cell_type": "code",
      "source": [
        "# Set up OpenAI API key in the os\n",
        "os.environ['OPENAI_API_KEY'] = openai_api_key"
      ],
      "metadata": {
        "id": "cwB1AZUHwI-f"
      },
      "execution_count": 3,
      "outputs": []
    },
    {
      "cell_type": "code",
      "source": [
        "# Connect to the OpenAI api\n",
        "client = OpenAI()"
      ],
      "metadata": {
        "id": "8XgxIS9Xwr7j"
      },
      "execution_count": 4,
      "outputs": []
    },
    {
      "cell_type": "code",
      "metadata": {
        "id": "63e70f58"
      },
      "source": [
        "# Define model inputs\n",
        "MODEL = \"gpt-4.1\"\n",
        "MODEL_MINI = \"gpt-4.1-mini\"\n",
        "TOOLS = [{ \"type\": \"web_search\" }]"
      ],
      "execution_count": 7,
      "outputs": []
    },
    {
      "cell_type": "code",
      "source": [
        "models = client.models.list()\n",
        "for model in models.data:\n",
        "    print(model.id)"
      ],
      "metadata": {
        "id": "bCh06nB3w8rg",
        "colab": {
          "base_uri": "https://localhost:8080/"
        },
        "outputId": "bd759b37-3b95-40d3-8f95-e8d03eb571fa"
      },
      "execution_count": 8,
      "outputs": [
        {
          "output_type": "stream",
          "name": "stdout",
          "text": [
            "gpt-4-0613\n",
            "gpt-4\n",
            "gpt-3.5-turbo\n",
            "gpt-4o-audio-preview-2025-06-03\n",
            "gpt-4.1-nano-2025-04-14\n",
            "gpt-4.1-nano\n",
            "gpt-image-1\n",
            "gpt-4o-realtime-preview-2025-06-03\n",
            "davinci-002\n",
            "babbage-002\n",
            "gpt-3.5-turbo-instruct\n",
            "gpt-3.5-turbo-instruct-0914\n",
            "dall-e-3\n",
            "dall-e-2\n",
            "gpt-4-1106-preview\n",
            "gpt-3.5-turbo-1106\n",
            "tts-1-hd\n",
            "tts-1-1106\n",
            "tts-1-hd-1106\n",
            "text-embedding-3-small\n",
            "text-embedding-3-large\n",
            "gpt-4-0125-preview\n",
            "gpt-4-turbo-preview\n",
            "gpt-3.5-turbo-0125\n",
            "gpt-4-turbo\n",
            "gpt-4-turbo-2024-04-09\n",
            "gpt-4o\n",
            "gpt-4o-2024-05-13\n",
            "gpt-4o-mini-2024-07-18\n",
            "gpt-4o-mini\n",
            "gpt-4o-2024-08-06\n",
            "chatgpt-4o-latest\n",
            "o1-preview-2024-09-12\n",
            "o1-preview\n",
            "o1-mini-2024-09-12\n",
            "o1-mini\n",
            "gpt-4o-realtime-preview-2024-10-01\n",
            "gpt-4o-audio-preview-2024-10-01\n",
            "gpt-4o-audio-preview\n",
            "gpt-4o-realtime-preview\n",
            "omni-moderation-latest\n",
            "omni-moderation-2024-09-26\n",
            "gpt-4o-realtime-preview-2024-12-17\n",
            "gpt-4o-audio-preview-2024-12-17\n",
            "gpt-4o-mini-realtime-preview-2024-12-17\n",
            "gpt-4o-mini-audio-preview-2024-12-17\n",
            "o1-2024-12-17\n",
            "o1\n",
            "gpt-4o-mini-realtime-preview\n",
            "gpt-4o-mini-audio-preview\n",
            "o3-mini\n",
            "o3-mini-2025-01-31\n",
            "gpt-4o-2024-11-20\n",
            "gpt-4o-search-preview-2025-03-11\n",
            "gpt-4o-search-preview\n",
            "gpt-4o-mini-search-preview-2025-03-11\n",
            "gpt-4o-mini-search-preview\n",
            "gpt-4o-transcribe\n",
            "gpt-4o-mini-transcribe\n",
            "o1-pro-2025-03-19\n",
            "o1-pro\n",
            "gpt-4o-mini-tts\n",
            "gpt-4.1-2025-04-14\n",
            "gpt-4.1\n",
            "gpt-4.1-mini-2025-04-14\n",
            "gpt-4.1-mini\n",
            "gpt-3.5-turbo-16k\n",
            "tts-1\n",
            "whisper-1\n",
            "text-embedding-ada-002\n"
          ]
        }
      ]
    },
    {
      "cell_type": "code",
      "source": [
        "# Developer message definition\n",
        "developer_message = \"\"\"\n",
        "You are an expert Deep Researcher.\n",
        "You provide complete and in depth research to the user.\n",
        "\"\"\""
      ],
      "metadata": {
        "id": "Ky-o6WL9bIiK"
      },
      "execution_count": 9,
      "outputs": []
    },
    {
      "cell_type": "code",
      "source": [
        "# Request the topic of research\n",
        "topic = input(\"Please enter the research topic: \")\n",
        "topic"
      ],
      "metadata": {
        "colab": {
          "base_uri": "https://localhost:8080/",
          "height": 52
        },
        "id": "UAx0UcpMNgUn",
        "outputId": "7bb39d12-ffb9-4c33-f0b6-dfc1ba06a5d9"
      },
      "execution_count": 10,
      "outputs": [
        {
          "name": "stdout",
          "output_type": "stream",
          "text": [
            "Please enter the research topic: vibe coding\n"
          ]
        },
        {
          "output_type": "execute_result",
          "data": {
            "text/plain": [
              "'vibe coding'"
            ],
            "application/vnd.google.colaboratory.intrinsic+json": {
              "type": "string"
            }
          },
          "metadata": {},
          "execution_count": 10
        }
      ]
    },
    {
      "cell_type": "markdown",
      "source": [
        "### LLM asks questions"
      ],
      "metadata": {
        "id": "h7dIa_rkNoCF"
      }
    },
    {
      "cell_type": "code",
      "source": [
        "# Define here the prompt to clarify\n",
        "prompt_to_clarify = f\"\"\"\n",
        "Ask 5 numbered clarifying question to the user about the topic: {topic}.\n",
        "The goal os the questions is to understand the intended purpose of the research.\n",
        "Reply only with the questions\n",
        "\"\"\""
      ],
      "metadata": {
        "id": "QJJewO0jNjAM"
      },
      "execution_count": 11,
      "outputs": []
    },
    {
      "cell_type": "code",
      "source": [
        "# Get the OpenAI API to ask 5 clarifying questions\n",
        "clarify = client.responses.create(\n",
        "    model = MODEL_MINI,\n",
        "    input = prompt_to_clarify,\n",
        "    instructions = developer_message\n",
        ")"
      ],
      "metadata": {
        "id": "9gkxR4UrNvFG"
      },
      "execution_count": 12,
      "outputs": []
    },
    {
      "cell_type": "code",
      "source": [
        "clarify"
      ],
      "metadata": {
        "colab": {
          "base_uri": "https://localhost:8080/"
        },
        "id": "kckTehYdN1EH",
        "outputId": "b9431b4e-238f-420b-924b-7eb739c5ae03"
      },
      "execution_count": 13,
      "outputs": [
        {
          "output_type": "execute_result",
          "data": {
            "text/plain": [
              "Response(id='resp_6887392cc50081a2bb01c5e87dbe26080a868a394ed8c00f', created_at=1753692460.0, error=None, incomplete_details=None, instructions='\\nYou are an expert Deep Researcher.\\nYou provide complete and in depth research to the user.\\n', metadata={}, model='gpt-4.1-mini-2025-04-14', object='response', output=[ResponseOutputMessage(id='msg_6887392d65a481a28beb5d997914c71b0a868a394ed8c00f', content=[ResponseOutputText(annotations=[], text='1. What specific aspects of vibe coding are you interested in exploring (e.g., definitions, applications, techniques)?  \\n2. Are you looking to understand vibe coding within a particular industry or field, such as music, software development, marketing, or social media?  \\n3. Do you want insights into the psychological or emotional impact of vibe coding on audiences or users?  \\n4. Are you focusing on how to implement vibe coding practically, or are you more interested in theoretical frameworks?  \\n5. Is the research intended for a general overview, an academic paper, a business strategy, or another purpose?', type='output_text', logprobs=[])], role='assistant', status='completed', type='message')], parallel_tool_calls=True, temperature=1.0, tool_choice='auto', tools=[], top_p=1.0, background=False, max_output_tokens=None, max_tool_calls=None, previous_response_id=None, prompt=None, reasoning=Reasoning(effort=None, generate_summary=None, summary=None), service_tier='default', status='completed', text=ResponseTextConfig(format=ResponseFormatText(type='text')), top_logprobs=0, truncation='disabled', usage=ResponseUsage(input_tokens=70, input_tokens_details=InputTokensDetails(cached_tokens=0), output_tokens=122, output_tokens_details=OutputTokensDetails(reasoning_tokens=0), total_tokens=192), user=None, prompt_cache_key=None, safety_identifier=None, store=True)"
            ]
          },
          "metadata": {},
          "execution_count": 13
        }
      ]
    },
    {
      "cell_type": "code",
      "source": [
        "# Get the questions\n",
        "questions = clarify.output[0].content[0].text.split( \"\\n\")\n",
        "questions"
      ],
      "metadata": {
        "colab": {
          "base_uri": "https://localhost:8080/"
        },
        "id": "YgGMnh8JN8fS",
        "outputId": "e4639c47-a1a2-47af-e54c-dc02597e6d09"
      },
      "execution_count": 14,
      "outputs": [
        {
          "output_type": "execute_result",
          "data": {
            "text/plain": [
              "['1. What specific aspects of vibe coding are you interested in exploring (e.g., definitions, applications, techniques)?  ',\n",
              " '2. Are you looking to understand vibe coding within a particular industry or field, such as music, software development, marketing, or social media?  ',\n",
              " '3. Do you want insights into the psychological or emotional impact of vibe coding on audiences or users?  ',\n",
              " '4. Are you focusing on how to implement vibe coding practically, or are you more interested in theoretical frameworks?  ',\n",
              " '5. Is the research intended for a general overview, an academic paper, a business strategy, or another purpose?']"
            ]
          },
          "metadata": {},
          "execution_count": 14
        }
      ]
    },
    {
      "cell_type": "code",
      "source": [
        "# Ask each question to the user\n",
        "answers = []\n",
        "for question in questions:\n",
        "  answer = input(question)\n",
        "  answers.append(answer)"
      ],
      "metadata": {
        "colab": {
          "base_uri": "https://localhost:8080/"
        },
        "id": "OIxkOElAOLXq",
        "outputId": "f42d7b36-4031-4d76-bb01-524ac7ba0c0e"
      },
      "execution_count": 15,
      "outputs": [
        {
          "name": "stdout",
          "output_type": "stream",
          "text": [
            "1. What specific aspects of vibe coding are you interested in exploring (e.g., definitions, applications, techniques)?  Real life use cases\n",
            "2. Are you looking to understand vibe coding within a particular industry or field, such as music, software development, marketing, or social media?  multiple industries\n",
            "3. Do you want insights into the psychological or emotional impact of vibe coding on audiences or users?  yes\n",
            "4. Are you focusing on how to implement vibe coding practically, or are you more interested in theoretical frameworks?  both\n",
            "5. Is the research intended for a general overview, an academic paper, a business strategy, or another purpose?overview\n"
          ]
        }
      ]
    },
    {
      "cell_type": "markdown",
      "source": [
        "## Web Searches\n",
        "\n",
        "### Goals and Queries\n",
        "\n"
      ],
      "metadata": {
        "id": "JgAmrF6fOhAI"
      }
    },
    {
      "cell_type": "code",
      "source": [
        "# Write the prompt_goals prompt\n",
        "prompt_goals = f\"\"\"\n",
        "Using the user answers {answers} to  questions {questions}, write a goal sentence and 5 web search queries for the research about {topic}\n",
        "Output: A json list of the goal and the 5 web search queries that will reach it.\n",
        "Format: {{\\\"goal\\\": \\\"...\\\", \\\"queries\\\": [\\\"q1\\\", ....]}}\n",
        "\"\"\""
      ],
      "metadata": {
        "id": "UaqixnobOQVr"
      },
      "execution_count": 16,
      "outputs": []
    },
    {
      "cell_type": "code",
      "source": [
        "# Use the responses API\n",
        "goal_and_queries = client.responses.create(\n",
        "    model = MODEL,\n",
        "    input = prompt_goals,\n",
        "    previous_response_id = clarify.id,\n",
        "    instructions = developer_message\n",
        ")"
      ],
      "metadata": {
        "id": "NdNaaXmUPB6m"
      },
      "execution_count": 17,
      "outputs": []
    },
    {
      "cell_type": "code",
      "source": [
        "goal_and_queries"
      ],
      "metadata": {
        "colab": {
          "base_uri": "https://localhost:8080/"
        },
        "id": "EMBDlgISPFRA",
        "outputId": "a4a85c90-24c1-4df2-e28f-5f97cc1a0c83"
      },
      "execution_count": 18,
      "outputs": [
        {
          "output_type": "execute_result",
          "data": {
            "text/plain": [
              "Response(id='resp_68873a750d1881a29c462f1dfe27aa830a868a394ed8c00f', created_at=1753692789.0, error=None, incomplete_details=None, instructions='\\nYou are an expert Deep Researcher.\\nYou provide complete and in depth research to the user.\\n', metadata={}, model='gpt-4.1-2025-04-14', object='response', output=[ResponseOutputMessage(id='msg_68873a76134881a28c8378159a216bd80a868a394ed8c00f', content=[ResponseOutputText(annotations=[], text='{\"goal\": \"To provide an overview of real-life use cases of vibe coding across multiple industries, highlighting both practical implementations and theoretical frameworks, as well as the psychological and emotional impact on audiences or users.\", \"queries\": [\"real life use cases of vibe coding in different industries\", \"vibe coding applications and psychological impact\", \"how is vibe coding implemented across various sectors\", \"theoretical frameworks and practical examples of vibe coding\", \"overview of vibe coding and its effect on users in multiple fields\"]}', type='output_text', logprobs=[])], role='assistant', status='completed', type='message')], parallel_tool_calls=True, temperature=1.0, tool_choice='auto', tools=[], top_p=1.0, background=False, max_output_tokens=None, max_tool_calls=None, previous_response_id='resp_6887392cc50081a2bb01c5e87dbe26080a868a394ed8c00f', prompt=None, reasoning=Reasoning(effort=None, generate_summary=None, summary=None), service_tier='default', status='completed', text=ResponseTextConfig(format=ResponseFormatText(type='text')), top_logprobs=0, truncation='disabled', usage=ResponseUsage(input_tokens=410, input_tokens_details=InputTokensDetails(cached_tokens=0), output_tokens=102, output_tokens_details=OutputTokensDetails(reasoning_tokens=0), total_tokens=512), user=None, prompt_cache_key=None, safety_identifier=None, store=True)"
            ]
          },
          "metadata": {},
          "execution_count": 18
        }
      ]
    },
    {
      "cell_type": "code",
      "source": [
        "goal_and_queries.output[0].content[0].text"
      ],
      "metadata": {
        "colab": {
          "base_uri": "https://localhost:8080/",
          "height": 87
        },
        "id": "YSDi7-BkPHBr",
        "outputId": "e7f9666a-0aeb-4799-8583-4f8e9df5f015"
      },
      "execution_count": 19,
      "outputs": [
        {
          "output_type": "execute_result",
          "data": {
            "text/plain": [
              "'{\"goal\": \"To provide an overview of real-life use cases of vibe coding across multiple industries, highlighting both practical implementations and theoretical frameworks, as well as the psychological and emotional impact on audiences or users.\", \"queries\": [\"real life use cases of vibe coding in different industries\", \"vibe coding applications and psychological impact\", \"how is vibe coding implemented across various sectors\", \"theoretical frameworks and practical examples of vibe coding\", \"overview of vibe coding and its effect on users in multiple fields\"]}'"
            ],
            "application/vnd.google.colaboratory.intrinsic+json": {
              "type": "string"
            }
          },
          "metadata": {},
          "execution_count": 19
        }
      ]
    },
    {
      "cell_type": "code",
      "source": [
        "# Formatting and loading as JSON\n",
        "plan = json.loads(goal_and_queries.output[0].content[0].text)"
      ],
      "metadata": {
        "id": "--7WjCq3PQzg"
      },
      "execution_count": 20,
      "outputs": []
    },
    {
      "cell_type": "code",
      "source": [
        "# Check the goal and the queries\n",
        "print(plan[\"goal\"])\n",
        "print(plan[\"queries\"])"
      ],
      "metadata": {
        "colab": {
          "base_uri": "https://localhost:8080/"
        },
        "id": "HsqDXDKaPjLg",
        "outputId": "033b20cd-40b6-4162-c6cb-71772388e33c"
      },
      "execution_count": 22,
      "outputs": [
        {
          "output_type": "stream",
          "name": "stdout",
          "text": [
            "To provide an overview of real-life use cases of vibe coding across multiple industries, highlighting both practical implementations and theoretical frameworks, as well as the psychological and emotional impact on audiences or users.\n",
            "['real life use cases of vibe coding in different industries', 'vibe coding applications and psychological impact', 'how is vibe coding implemented across various sectors', 'theoretical frameworks and practical examples of vibe coding', 'overview of vibe coding and its effect on users in multiple fields']\n"
          ]
        }
      ]
    },
    {
      "cell_type": "code",
      "source": [
        "# Store the goal and queries\n",
        "goal = plan[\"goal\"]\n",
        "queries = plan[\"queries\"]"
      ],
      "metadata": {
        "id": "lHTET5rpPbLJ"
      },
      "execution_count": 21,
      "outputs": []
    },
    {
      "cell_type": "markdown",
      "source": [
        "### Web Search"
      ],
      "metadata": {
        "id": "TC7q0GiEPvMi"
      }
    },
    {
      "cell_type": "code",
      "source": [
        "# Print the first query\n",
        "print(queries[0])"
      ],
      "metadata": {
        "colab": {
          "base_uri": "https://localhost:8080/"
        },
        "id": "cD4J-ZPJPdVa",
        "outputId": "c83eaaf3-100a-4e6c-a0c6-0395c39d5e11"
      },
      "execution_count": 23,
      "outputs": [
        {
          "output_type": "stream",
          "name": "stdout",
          "text": [
            "real life use cases of vibe coding in different industries\n"
          ]
        }
      ]
    },
    {
      "cell_type": "code",
      "source": [
        "# Web search with the the responses endpoint\n",
        "web_search = client.responses.create(\n",
        "    model = MODEL,\n",
        "    input = f\"search: {queries[0]}\",\n",
        "    instructions = developer_message,\n",
        "    tools = TOOLS\n",
        ")"
      ],
      "metadata": {
        "id": "lgFfpa-XPyU7"
      },
      "execution_count": 24,
      "outputs": []
    },
    {
      "cell_type": "code",
      "source": [
        "web_search"
      ],
      "metadata": {
        "colab": {
          "base_uri": "https://localhost:8080/"
        },
        "id": "2i3AFyLoP1W6",
        "outputId": "d424115f-58bd-4431-baec-f4fd5c596aa4"
      },
      "execution_count": 25,
      "outputs": [
        {
          "output_type": "execute_result",
          "data": {
            "text/plain": [
              "Response(id='resp_68873b3a22488192887ae4da1675c5690594f5981797b11e', created_at=1753692986.0, error=None, incomplete_details=None, instructions='\\nYou are an expert Deep Researcher.\\nYou provide complete and in depth research to the user.\\n', metadata={}, model='gpt-4.1-2025-04-14', object='response', output=[ResponseFunctionWebSearch(id='ws_68873b3a91708192b5beaa382ae7d9b70594f5981797b11e', action=ActionSearch(query='real life use cases of vibe coding in different industries', type='search'), status='completed', type='web_search_call'), ResponseOutputMessage(id='msg_68873b3c24ec819290f4b71a5e56d4d30594f5981797b11e', content=[ResponseOutputText(annotations=[AnnotationURLCitation(end_index=899, start_index=802, title='Vibe Coding in Business: Benefits and Use Cases – NIX United', type='url_citation', url='https://nix-united.com/blog/vibe-coding-use-cases-benefits/?utm_source=openai'), AnnotationURLCitation(end_index=1534, start_index=1398, title='Vibe-Coding in Action: Use Cases for Every Team | by Anna Arteeva | Jul, 2025 | Medium', type='url_citation', url='https://annaarteeva.medium.com/vibe-coding-in-action-use-cases-for-every-team-a909c9eb6dd8?utm_source=openai'), AnnotationURLCitation(end_index=2097, start_index=1961, title='Vibe-Coding in Action: Use Cases for Every Team | by Anna Arteeva | Jul, 2025 | Medium', type='url_citation', url='https://annaarteeva.medium.com/vibe-coding-in-action-use-cases-for-every-team-a909c9eb6dd8?utm_source=openai'), AnnotationURLCitation(end_index=2531, start_index=2434, title='Vibe Coding in Business: Benefits and Use Cases – NIX United', type='url_citation', url='https://nix-united.com/blog/vibe-coding-use-cases-benefits/?utm_source=openai'), AnnotationURLCitation(end_index=3008, start_index=2911, title='Vibe Coding in Business: Benefits and Use Cases – NIX United', type='url_citation', url='https://nix-united.com/blog/vibe-coding-use-cases-benefits/?utm_source=openai'), AnnotationURLCitation(end_index=3469, start_index=3372, title='Vibe Coding in Business: Benefits and Use Cases – NIX United', type='url_citation', url='https://nix-united.com/blog/vibe-coding-use-cases-benefits/?utm_source=openai'), AnnotationURLCitation(end_index=4005, start_index=3877, title='Top 10 Vibe Coding Projects That Can Make You Real Money', type='url_citation', url='https://www.nucamp.co/blog/vibe-coding-top-10-vibe-coding-projects-that-can-make-you-real-money?utm_source=openai'), AnnotationURLCitation(end_index=4461, start_index=4380, title='Vibe coding', type='url_citation', url='https://en.wikipedia.org/wiki/Vibe_coding?utm_source=openai'), AnnotationURLCitation(end_index=4832, start_index=4735, title='Vibe Coding in Business: Benefits and Use Cases – NIX United', type='url_citation', url='https://nix-united.com/blog/vibe-coding-use-cases-benefits/?utm_source=openai'), AnnotationURLCitation(end_index=5288, start_index=5191, title='Vibe Coding in Business: Benefits and Use Cases – NIX United', type='url_citation', url='https://nix-united.com/blog/vibe-coding-use-cases-benefits/?utm_source=openai')], text='\"Vibe coding\" is an emerging approach that leverages AI to enable individuals, including those without formal programming backgrounds, to create functional software applications through natural language prompts. This method is gaining traction across various industries, facilitating rapid prototyping, task automation, and personalized tool development. Below are real-life use cases of vibe coding in different sectors:\\n\\n**1. Prototyping and Ideation**\\n\\n*Industry:* Startups and Product Development\\n\\n*Use Case:* Startups utilize vibe coding to swiftly develop prototypes and Minimum Viable Products (MVPs). By interacting with AI models through natural language, entrepreneurs can create and test basic functionalities without extensive coding knowledge, allowing for rapid iteration and innovation. ([nix-united.com](https://nix-united.com/blog/vibe-coding-use-cases-benefits/?utm_source=openai))\\n\\n**2. Internal Tool Development**\\n\\n*Industry:* Various Business Sectors\\n\\n*Use Case:* Non-technical employees in departments like sales, marketing, and operations use vibe coding to build custom internal tools tailored to their specific needs. For instance, a sales team might create a bespoke Customer Relationship Management (CRM) system, reducing reliance on generic, costly software solutions. This approach not only cuts costs but also ensures the tool aligns closely with the team\\'s workflow. ([annaarteeva.medium.com](https://annaarteeva.medium.com/vibe-coding-in-action-use-cases-for-every-team-a909c9eb6dd8?utm_source=openai))\\n\\n**3. Business Intelligence and Analytics Dashboards**\\n\\n*Industry:* Business Development and Analytics\\n\\n*Use Case:* Teams leverage vibe coding to generate interactive, data-rich dashboards and visualizations. By inputting business metrics into AI prototyping tools, they can quickly produce polished dashboards that facilitate real-time data exploration and decision-making, without the need for specialized technical skills. ([annaarteeva.medium.com](https://annaarteeva.medium.com/vibe-coding-in-action-use-cases-for-every-team-a909c9eb6dd8?utm_source=openai))\\n\\n**4. Task Automation**\\n\\n*Industry:* Software Development\\n\\n*Use Case:* Developers employ vibe coding to automate repetitive tasks such as adding logging, maintaining documentation, and converting data formats. This automation enhances productivity by allowing developers to focus on more complex and creative aspects of their projects. ([nix-united.com](https://nix-united.com/blog/vibe-coding-use-cases-benefits/?utm_source=openai))\\n\\n**5. Custom Software Development for Clients**\\n\\n*Industry:* Consulting and Agencies\\n\\n*Use Case:* Consultancies use vibe coding to streamline the development of custom software for clients. The approach facilitates real-time collaboration, live demonstrations, and integrated deployment, making it easier to showcase progress, gather feedback, and implement changes efficiently. ([nix-united.com](https://nix-united.com/blog/vibe-coding-use-cases-benefits/?utm_source=openai))\\n\\n**6. Innovation Labs and Hackathons**\\n\\n*Industry:* Corporate Innovation\\n\\n*Use Case:* Companies organize internal hackathons and innovation challenges where employees use vibe coding to experiment with ideas and build working prototypes. This fosters a culture of innovation and can lead to the development of new business solutions from within the organization. ([nix-united.com](https://nix-united.com/blog/vibe-coding-use-cases-benefits/?utm_source=openai))\\n\\n**7. Micro-SaaS Development**\\n\\n*Industry:* Local Businesses\\n\\n*Use Case:* Entrepreneurs create Micro-SaaS products—specialized cloud tools addressing unique needs of local businesses—using vibe coding. These solutions, such as automated appointment reminders or lightweight invoicing apps, are developed with minimal coding and cater to specific, repetitive business problems, generating recurring revenue. ([nucamp.co](https://www.nucamp.co/blog/vibe-coding-top-10-vibe-coding-projects-that-can-make-you-real-money?utm_source=openai))\\n\\n**8. Personalized Applications**\\n\\n*Industry:* Personal Productivity\\n\\n*Use Case:* Individuals develop personalized applications to address specific needs. For example, a journalist created an app that analyzes fridge contents to suggest items for a packed lunch. While these applications may have limitations, they demonstrate the potential of vibe coding for personal use. ([en.wikipedia.org](https://en.wikipedia.org/wiki/Vibe_coding?utm_source=openai))\\n\\n**9. Educational Tools**\\n\\n*Industry:* Education Technology\\n\\n*Use Case:* Educators and students use vibe coding to create interactive quizzes, personalized study aids, and learn coding concepts. This hands-on approach enhances engagement and understanding of the material. ([nix-united.com](https://nix-united.com/blog/vibe-coding-use-cases-benefits/?utm_source=openai))\\n\\n**10. Environmental and Sustainability Applications**\\n\\n*Industry:* Environmental Management\\n\\n*Use Case:* Organizations develop software to track energy consumption and carbon footprints, providing solutions to enhance efficiency and meet sustainability goals. Vibe coding enables the rapid creation of such tools, facilitating environmental responsibility. ([nix-united.com](https://nix-united.com/blog/vibe-coding-use-cases-benefits/?utm_source=openai))\\n\\nThese examples illustrate the versatility of vibe coding across various industries, empowering individuals and organizations to develop tailored solutions efficiently and cost-effectively. ', type='output_text', logprobs=[])], role='assistant', status='completed', type='message')], parallel_tool_calls=True, temperature=1.0, tool_choice='auto', tools=[WebSearchTool(type='web_search_preview', search_context_size='medium', user_location=UserLocation(type='approximate', city=None, country='US', region=None, timezone=None))], top_p=1.0, background=False, max_output_tokens=None, max_tool_calls=None, previous_response_id=None, prompt=None, reasoning=Reasoning(effort=None, generate_summary=None, summary=None), service_tier='default', status='completed', text=ResponseTextConfig(format=ResponseFormatText(type='text')), top_logprobs=0, truncation='disabled', usage=ResponseUsage(input_tokens=337, input_tokens_details=InputTokensDetails(cached_tokens=0), output_tokens=1101, output_tokens_details=OutputTokensDetails(reasoning_tokens=0), total_tokens=1438), user=None, prompt_cache_key=None, safety_identifier=None, store=True)"
            ]
          },
          "metadata": {},
          "execution_count": 25
        }
      ]
    },
    {
      "cell_type": "code",
      "source": [
        "# Investigate the output\n",
        "# Retrieve the id\n",
        "web_search.output[1].id"
      ],
      "metadata": {
        "colab": {
          "base_uri": "https://localhost:8080/",
          "height": 35
        },
        "id": "uz-JVwLCP7ZI",
        "outputId": "a9d790ae-b546-436b-da4b-3a21a6629c18"
      },
      "execution_count": 26,
      "outputs": [
        {
          "output_type": "execute_result",
          "data": {
            "text/plain": [
              "'msg_68873b3c24ec819290f4b71a5e56d4d30594f5981797b11e'"
            ],
            "application/vnd.google.colaboratory.intrinsic+json": {
              "type": "string"
            }
          },
          "metadata": {},
          "execution_count": 26
        }
      ]
    },
    {
      "cell_type": "code",
      "source": [
        "web_search.output[1].content[0].text"
      ],
      "metadata": {
        "colab": {
          "base_uri": "https://localhost:8080/",
          "height": 139
        },
        "id": "qvNzxpi9QBN2",
        "outputId": "5b07aae5-73c7-49c3-fe29-456ad53fada7"
      },
      "execution_count": 27,
      "outputs": [
        {
          "output_type": "execute_result",
          "data": {
            "text/plain": [
              "'\"Vibe coding\" is an emerging approach that leverages AI to enable individuals, including those without formal programming backgrounds, to create functional software applications through natural language prompts. This method is gaining traction across various industries, facilitating rapid prototyping, task automation, and personalized tool development. Below are real-life use cases of vibe coding in different sectors:\\n\\n**1. Prototyping and Ideation**\\n\\n*Industry:* Startups and Product Development\\n\\n*Use Case:* Startups utilize vibe coding to swiftly develop prototypes and Minimum Viable Products (MVPs). By interacting with AI models through natural language, entrepreneurs can create and test basic functionalities without extensive coding knowledge, allowing for rapid iteration and innovation. ([nix-united.com](https://nix-united.com/blog/vibe-coding-use-cases-benefits/?utm_source=openai))\\n\\n**2. Internal Tool Development**\\n\\n*Industry:* Various Business Sectors\\n\\n*Use Case:* Non-technical employees in departments like sales, marketing, and operations use vibe coding to build custom internal tools tailored to their specific needs. For instance, a sales team might create a bespoke Customer Relationship Management (CRM) system, reducing reliance on generic, costly software solutions. This approach not only cuts costs but also ensures the tool aligns closely with the team\\'s workflow. ([annaarteeva.medium.com](https://annaarteeva.medium.com/vibe-coding-in-action-use-cases-for-every-team-a909c9eb6dd8?utm_source=openai))\\n\\n**3. Business Intelligence and Analytics Dashboards**\\n\\n*Industry:* Business Development and Analytics\\n\\n*Use Case:* Teams leverage vibe coding to generate interactive, data-rich dashboards and visualizations. By inputting business metrics into AI prototyping tools, they can quickly produce polished dashboards that facilitate real-time data exploration and decision-making, without the need for specialized technical skills. ([annaarteeva.medium.com](https://annaarteeva.medium.com/vibe-coding-in-action-use-cases-for-every-team-a909c9eb6dd8?utm_source=openai))\\n\\n**4. Task Automation**\\n\\n*Industry:* Software Development\\n\\n*Use Case:* Developers employ vibe coding to automate repetitive tasks such as adding logging, maintaining documentation, and converting data formats. This automation enhances productivity by allowing developers to focus on more complex and creative aspects of their projects. ([nix-united.com](https://nix-united.com/blog/vibe-coding-use-cases-benefits/?utm_source=openai))\\n\\n**5. Custom Software Development for Clients**\\n\\n*Industry:* Consulting and Agencies\\n\\n*Use Case:* Consultancies use vibe coding to streamline the development of custom software for clients. The approach facilitates real-time collaboration, live demonstrations, and integrated deployment, making it easier to showcase progress, gather feedback, and implement changes efficiently. ([nix-united.com](https://nix-united.com/blog/vibe-coding-use-cases-benefits/?utm_source=openai))\\n\\n**6. Innovation Labs and Hackathons**\\n\\n*Industry:* Corporate Innovation\\n\\n*Use Case:* Companies organize internal hackathons and innovation challenges where employees use vibe coding to experiment with ideas and build working prototypes. This fosters a culture of innovation and can lead to the development of new business solutions from within the organization. ([nix-united.com](https://nix-united.com/blog/vibe-coding-use-cases-benefits/?utm_source=openai))\\n\\n**7. Micro-SaaS Development**\\n\\n*Industry:* Local Businesses\\n\\n*Use Case:* Entrepreneurs create Micro-SaaS products—specialized cloud tools addressing unique needs of local businesses—using vibe coding. These solutions, such as automated appointment reminders or lightweight invoicing apps, are developed with minimal coding and cater to specific, repetitive business problems, generating recurring revenue. ([nucamp.co](https://www.nucamp.co/blog/vibe-coding-top-10-vibe-coding-projects-that-can-make-you-real-money?utm_source=openai))\\n\\n**8. Personalized Applications**\\n\\n*Industry:* Personal Productivity\\n\\n*Use Case:* Individuals develop personalized applications to address specific needs. For example, a journalist created an app that analyzes fridge contents to suggest items for a packed lunch. While these applications may have limitations, they demonstrate the potential of vibe coding for personal use. ([en.wikipedia.org](https://en.wikipedia.org/wiki/Vibe_coding?utm_source=openai))\\n\\n**9. Educational Tools**\\n\\n*Industry:* Education Technology\\n\\n*Use Case:* Educators and students use vibe coding to create interactive quizzes, personalized study aids, and learn coding concepts. This hands-on approach enhances engagement and understanding of the material. ([nix-united.com](https://nix-united.com/blog/vibe-coding-use-cases-benefits/?utm_source=openai))\\n\\n**10. Environmental and Sustainability Applications**\\n\\n*Industry:* Environmental Management\\n\\n*Use Case:* Organizations develop software to track energy consumption and carbon footprints, providing solutions to enhance efficiency and meet sustainability goals. Vibe coding enables the rapid creation of such tools, facilitating environmental responsibility. ([nix-united.com](https://nix-united.com/blog/vibe-coding-use-cases-benefits/?utm_source=openai))\\n\\nThese examples illustrate the versatility of vibe coding across various industries, empowering individuals and organizations to develop tailored solutions efficiently and cost-effectively. '"
            ],
            "application/vnd.google.colaboratory.intrinsic+json": {
              "type": "string"
            }
          },
          "metadata": {},
          "execution_count": 27
        }
      ]
    },
    {
      "cell_type": "code",
      "source": [
        "# Build the function for the web searches\n",
        "def run_search(q):\n",
        "  web_search = client.responses.create(\n",
        "    model = MODEL,\n",
        "    input = f\"search: {q}\",\n",
        "    instructions = developer_message,\n",
        "    tools = TOOLS\n",
        "  )\n",
        "  return {\"query\": q,\n",
        "          \"resp_id\": web_search.output[1].id,\n",
        "          \"research_output\": web_search.output[1].content[0].text}"
      ],
      "metadata": {
        "id": "o1ZNGLIZQDRY"
      },
      "execution_count": 28,
      "outputs": []
    },
    {
      "cell_type": "code",
      "source": [
        "# Test the funtion\n",
        "run_search(queries[0])"
      ],
      "metadata": {
        "colab": {
          "base_uri": "https://localhost:8080/"
        },
        "id": "nP6MEqokQMWa",
        "outputId": "f424c228-8010-474a-df6a-157819a3d80c"
      },
      "execution_count": 29,
      "outputs": [
        {
          "output_type": "execute_result",
          "data": {
            "text/plain": [
              "{'query': 'real life use cases of vibe coding in different industries',\n",
              " 'resp_id': 'msg_68873ba92ae0819db1c3e588ae8150ca006c3fb4f2a7a59f',\n",
              " 'research_output': '\"Vibe coding\" refers to the practice of using AI tools to generate code based on natural language prompts, enabling individuals with minimal technical expertise to develop software applications. This approach has been adopted across various industries, leading to innovative applications and streamlined development processes. Below are some real-world use cases of vibe coding in different sectors:\\n\\n**1. Software Development**\\n\\n- **Rapid Prototyping and MVP Development**: Startups and businesses utilize vibe coding to quickly create and test software prototypes. By reducing the time needed to develop a minimum viable product (MVP), companies can validate ideas faster, attract investors, and pivot as needed. ([designrush.com](https://www.designrush.com/agency/software-development/trends/vibe-coding?utm_source=openai))\\n\\n- **Automating Repetitive Coding Tasks**: Developers describe what they need, and vibe coding generates the code. It can also debug errors, suggest optimizations, and improve code quality, reducing development time. ([designrush.com](https://www.designrush.com/agency/software-development/trends/vibe-coding?utm_source=openai))\\n\\n**2. Fintech**\\n\\n- **Automated Trading Systems**: Financial institutions employ vibe coding to develop and maintain secure transaction systems, fraud detection algorithms, and automated trading software more efficiently. ([designrush.com](https://www.designrush.com/agency/software-development/trends/vibe-coding?utm_source=openai))\\n\\n**3. Healthcare**\\n\\n- **AI-Driven Diagnostic Tools**: Hospitals and medical tech companies use vibe coding to develop AI-driven diagnostic tools, automate patient data management, and improve healthcare software development. ([designrush.com](https://www.designrush.com/agency/software-development/trends/vibe-coding?utm_source=openai))\\n\\n**4. E-commerce**\\n\\n- **Customer Support Automation**: Businesses leverage vibe coding to create recommendation engines, chatbots, and automated customer support tools, improving user experience and operational efficiency. ([designrush.com](https://www.designrush.com/agency/software-development/trends/vibe-coding?utm_source=openai))\\n\\n**5. Education Technology**\\n\\n- **Interactive Learning Platforms**: Educators can quickly build interactive platforms to deliver course materials and facilitate discussions without needing extensive coding knowledge. This means they can focus on creating engaging content instead of worrying about backend complexities. ([arsturn.com](https://www.arsturn.com/blog/real-world-applications-of-vibe-coding-techniques?utm_source=openai))\\n\\n**6. Game Development**\\n\\n- **Procedural Content Generation**: Game developers benefit significantly from vibe coding as it encourages dynamic collaboration between designers, artists, and programmers. Through vibe coding environments, teams create immersive gaming experiences with real-time testing and debugging. ([viberondemand.com](https://viberondemand.com/blogs/real-world-applications-of-vibe-coding?utm_source=openai))\\n\\n**7. Internet of Things (IoT)**\\n\\n- **Firmware Development for Smart Devices**: Vibe coding accelerates the development of IoT ecosystems, connecting hardware devices with cloud services. The approach simplifies writing firmware for smart sensors, wearable devices, and industrial equipment. ([viberondemand.com](https://viberondemand.com/blogs/real-world-applications-of-vibe-coding?utm_source=openai))\\n\\n**8. Blockchain and Web3**\\n\\n- **Smart Contract Development**: Blockchain developers are adopting vibe coding to build decentralized applications (dApps) and smart contracts efficiently. The method allows for collaborative auditing of smart contract code, ensuring security and compliance. ([viberondemand.com](https://viberondemand.com/blogs/real-world-applications-of-vibe-coding?utm_source=openai))\\n\\n**9. Cybersecurity**\\n\\n- **Development of Security Solutions**: Security software development greatly benefits from vibe coding\\'s emphasis on collaborative review and iterative testing. Teams can create intrusion detection systems, firewall solutions, and encryption services with continuous feedback mechanisms, reducing vulnerabilities early in the lifecycle. ([viberondemand.com](https://viberondemand.com/blogs/real-world-applications-of-vibe-coding?utm_source=openai))\\n\\n**10. Data Science and Big Data**\\n\\n- **Data Pipeline Automation**: Data scientists apply vibe coding techniques when designing data pipelines, ETL processes, and visualization dashboards. The collaborative environment promotes code reusability and pipeline automation, enhancing the efficiency of data workflows. ([viberondemand.com](https://viberondemand.com/blogs/real-world-applications-of-vibe-coding?utm_source=openai))\\n\\n**11. Automation and DevOps**\\n\\n- **CI/CD Pipeline Creation**: Vibe coding streamlines the creation of CI/CD pipelines, infrastructure-as-code (IaC) scripts, and automation frameworks. By embedding real-time code validation and collaborative scripting, teams ensure faster deployment cycles and error-free releases. ([viberondemand.com](https://viberondemand.com/blogs/real-world-applications-of-vibe-coding?utm_source=openai))\\n\\n**12. Augmented Reality (AR) and Virtual Reality (VR)**\\n\\n- **Immersive Experience Prototyping**: Vibe coding facilitates the development of AR/VR applications by enabling tight integration between 3D modeling, interaction scripting, and hardware optimization. Developers can prototype immersive experiences, test hardware compatibility, and refine interactions rapidly. ([viberondemand.com](https://viberondemand.com/blogs/real-world-applications-of-vibe-coding?utm_source=openai))\\n\\n**13. Smart City and Urban Planning**\\n\\n- **Simulation Models and Resource Optimization**: Urban developers apply vibe coding to build simulation models, resource optimization tools, and smart city management platforms. The code\\'s adaptability allows planners to incorporate sensor data, geospatial analytics, and predictive models in real time. ([viberondemand.com](https://viberondemand.com/blogs/real-world-applications-of-vibe-coding?utm_source=openai))\\n\\n**14. SaaS Applications**\\n\\n- **Multi-User Systems and Customer Portals**: For those building software-as-a-service platforms, vibe coding provides a starting point for product development. Applications can include multi-user systems, customer portals, content managers, or subscription models. ([vitara.ai](https://vitara.ai/vibe-coding/?utm_source=openai))\\n\\nThese examples demonstrate the versatility and transformative potential of vibe coding across various industries, enabling faster development cycles, reducing technical barriers, and fostering innovation. '}"
            ]
          },
          "metadata": {},
          "execution_count": 29
        }
      ]
    },
    {
      "cell_type": "markdown",
      "source": [
        "## Verifying if we have enough information to reach the goal"
      ],
      "metadata": {
        "id": "LbCxkGIxQcnu"
      }
    },
    {
      "cell_type": "code",
      "source": [
        "# Create a function that evaluates the outcome\n",
        "def evaluate(collected):\n",
        "  review = client.responses.create(\n",
        "      model = MODEL,\n",
        "      input = [\n",
        "          {\"role\": \"developer\", \"content\": f\"Research goal: {goal}\"},\n",
        "          {\"role\": \"assistant\", \"content\": json.dumps(collected)},\n",
        "          {\"role\": \"user\", \"content\": \"Does this information will fully satisfy the goal? Answer Yes or No only.\"}\n",
        "      ],\n",
        "      instructions = developer_message\n",
        "  )\n",
        "  return \"yes\" in review.output[0].content[0].text.lower()"
      ],
      "metadata": {
        "id": "pg5qCQfHQPxd"
      },
      "execution_count": 30,
      "outputs": []
    },
    {
      "cell_type": "code",
      "source": [
        "# Verifying if we have enough info\n",
        "collected = []\n",
        "for _ in itertools.count():\n",
        "  for q in queries:\n",
        "    collected.append(run_search(q))\n",
        "  if evaluate(collected):\n",
        "    break\n",
        "\n",
        "  # If no: perform 5 more questions\n",
        "  more_searches = client.responses.create(\n",
        "      model = MODEL,\n",
        "      input = [\n",
        "          {\"role\": \"assistant\", \"content\": f\"Current data: {json.dumps(collected)}\"},\n",
        "          {\"role\": \"user\", \"content\": f\"This has not met the goal: {goal}. Write 5 other web searchs to achieve the goal\"}\n",
        "      ],\n",
        "      instructions = developer_message,\n",
        "      previous_response_id = goal_and_queries.id\n",
        "  )\n",
        "  queries = json.loads(more_searches.output[0].content[0].text)\n"
      ],
      "metadata": {
        "id": "88Hl5nkcQjqu"
      },
      "execution_count": 31,
      "outputs": []
    },
    {
      "cell_type": "markdown",
      "source": [
        "### Write the final report"
      ],
      "metadata": {
        "id": "Ldqpc9RBREme"
      }
    },
    {
      "cell_type": "code",
      "source": [
        "# Use the responses endpoint to write the deep research report\n",
        "report = client.responses.create(\n",
        "    model = MODEL,\n",
        "    input = [\n",
        "        {\"role\": \"developer\", \"content\": (f\"Write a complete and detailed report about research goal: {goal}\"\n",
        "                                        \"Cite Sources inline using [n] and append a reference\"\n",
        "                                        \"list mapping [n] to url\")},\n",
        "        {\"role\": \"assistant\", \"content\": json.dumps(collected)}],\n",
        "    instructions = developer_message\n",
        ")\n",
        "print(\"\\n=== FINAL REPORT ===\")\n",
        "display(Markdown(report.output[0].content[0].text))"
      ],
      "metadata": {
        "colab": {
          "base_uri": "https://localhost:8080/",
          "height": 1000
        },
        "id": "ZweQAvLOQuG9",
        "outputId": "cc4ea13a-c5ba-4434-932a-272aefc23008"
      },
      "execution_count": 32,
      "outputs": [
        {
          "output_type": "stream",
          "name": "stdout",
          "text": [
            "\n",
            "=== FINAL REPORT ===\n"
          ]
        },
        {
          "output_type": "display_data",
          "data": {
            "text/plain": [
              "<IPython.core.display.Markdown object>"
            ],
            "text/markdown": "# Vibe Coding: Real-Life Use Cases, Theoretical Frameworks, and User Impact Across Industries\n\n## Introduction\n\n**Vibe coding** is an emergent programming approach that leverages artificial intelligence—primarily large language models (LLMs)—to write, modify, and build software based on natural language instructions. Introduced by OpenAI co-founder Andrej Karpathy in 2025, the paradigm shifts coding from a technical, syntax-focused process into a creative, conversational, and iterative flow. It is democratizing software development, enabling non-coders to develop functional apps, and profoundly influencing efficiency, creativity, and inclusivity across industries. This report synthesizes real-life implementations, theoretical underpinnings, and psychological impacts of vibe coding, with references to key sources.\n\n---\n\n## 1. Real-Life Use Cases Across Industries\n\n### 1.1. Software Development\n\n**Rapid Prototyping and MVPs:** Startups and established companies alike use vibe coding for lightning-fast prototyping. AI coding assistants help founders launch new budgeting apps or MVPs in days, offering a path to showcase concepts to investors without traditional developer overhead [1]. \n\n**Developer Productivity:** Teams employ vibe coding for routine tasks like refactoring, testing, documentation, and code scaffolding—freeing up human developers to focus on design and complex problem-solving [2].\n\n### 1.2. Healthcare\n\n**AI-Driven Diagnostic Tools:** Hospitals leverage vibe coding to create AI-supported applications for symptom logging and disease screening, making digital solutions more accessible to medical staff [3].\n\n**Telemedicine:** Vibe coding accelerates the buildout of telemedicine platforms, including patient-facing chatbots and appointment scheduling systems, expanding patient access while automating administrative processes [4].\n\n### 1.3. Finance\n\n**Automated Trading Systems:** Financial institutions generate trading algorithms and automation scripts through conversational prompts, increasing speed and reducing technical hurdles [5].\n\n**Fraud Detection:** Vibe coding tools assist in constructing anomaly detection systems that monitor transaction data for fraud signals [2].\n\n### 1.4. Education\n\n**Personalized EdTech Solutions:** Teachers and students create adaptive learning platforms—such as custom quizzes or simulation modules—without deep coding knowledge, improving engagement and learning outcomes [3][4].\n\n### 1.5. E-commerce\n\n**Chatbots and Support Tools:** Retailers craft chatbots and virtual shopping assistants using vibe coding platforms, which handle customer queries and personalize recommendations [2].\n\n**Recommendation Engines:** Lightweight AI modules suggest products based on browsing or purchase history, coded via high-level prompts [2].\n\n### 1.6. Small Businesses & Entrepreneurship\n\n**Custom Back-Office Tools:** Entrepreneurs build inventory management, invoicing, and scheduling apps—often over a single weekend—by describing requirements to an AI coding partner (e.g., hair salon inventory alerts) [6].\n\n### 1.7. Game Development\n\n**Procedural Content Generation:** Games studios employ vibe coding for in-game assets and dynamic world generation, blending creative scripting and AI-driven logic [4].\n\n### 1.8. Marketing & Content Creation\n\n**SEO and Analytics Tools:** Marketers build bespoke calculators and analysis dashboards, enhancing content strategy and campaign planning [7].\n\n**Personalized Content Automation:** Teams generate customized messaging at scale, enhancing audience targeting [8].\n\n### 1.9. Internet of Things (IoT)\n\n**Device Firmware & Integration:** Vibe coding streamlines the creation of firmware and integration code for smart sensors and wearables, accelerating IoT innovation [4].\n\n### 1.10. Cybersecurity\n\n**Intrusion and Threat Detection:** Security professionals develop adaptive threat detection and response scripts, iterating quickly to address evolving risks [4].\n\n---\n\n## 2. Theoretical Frameworks\n\n### 2.1. Flow Theory (Mihaly Csikszentmihalyi)\n\nVibe coding promotes a psychological ‘flow’ state—deep focus, enjoyment, and peak productivity—by removing syntax barriers and enabling creative, uninterrupted progress [9].\n\n### 2.2. Embodied Cognition\n\nCoding shifts from a strictly intellectual task to an embodied, holistic activity, as developers interact through natural language and experience more intuitive, sensory-aligned problem solving [9].\n\n### 2.3. Post-Structuralism\n\nVibe coding disrupts old conventions—rigid structures and gatekeeping—in favor of a fluid, subjective, and democratized creation process, enabling unique and personalized approaches to software [9].\n\n---\n\n## 3. Psychological and Emotional Impact\n\n### 3.1. Reduced Stress and Burnout\n\nVibe coding allows users to focus on vision and creative direction over tedious details, lowering cognitive load and the risk of developer burnout [10].\n\n### 3.2. Increased Inclusivity\n\nRemoving complex syntax and specialized knowledge barriers opens software creation to a much broader, diverse population—empowering women, minorities, and professionals from non-technical fields [10].\n\n### 3.3. Enhanced Creativity\n\nDevelopers are emboldened to experiment and innovate, since vibe coding enables rapid, low-risk iteration and fosters intuitive problem-solving [10].\n\n---\n\n## 4. Limitations and Considerations\n\n### 4.1. Code Quality and Security\n\nAI-generated code can hide vulnerabilities or introduce subtle bugs; human review, especially for sensitive or scalable applications, remains essential [11].\n\n### 4.2. Legal and Ethical Concerns\n\nOwnership and copyright of AI-generated code remains uncertain; regulatory frameworks are still catching up with this rapid innovation [12].\n\n### 4.3. Over-reliance and Skill Decline\n\nDependence on AI assistance risks eroding foundational coding skills, especially for novices [13].\n\n---\n\n## 5. Recent Tools and Platforms Supporting Vibe Coding\n\n- **Vybes.dev** – AI-powered platform for app planning, code generation, and deployment [14].\n- **Cursor** – AI-enhanced code editor within Visual Studio Code [15].\n- **Replit** – Browser-based coding and deployment with AI help [15].\n- **Lovable, Bolt** – No-code/low-code tools focused on natural language app generation [15].\n\n---\n\n## Conclusion\n\nVibe coding represents a transformative leap in software development, democratizing access, accelerating innovation, and lowering psychological barriers to entry. It is already impacting healthcare, finance, education, entrepreneurship, and creative fields. Despite these advances, practitioners must remain alert to quality, security, and ethical issues as the practice matures.\n\n---\n\n## References\n\n1. [medium.com – Vibe Coding in Enterprise Software](https://medium.com/@santismm/vibe-coding-in-enterprise-software-c2921546613a?utm_source=openai)\n2. [designrush.com – Vibe Coding Trends](https://www.designrush.com/agency/software-development/trends/vibe-coding?utm_source=openai)\n3. [nucamp.co – The Future of Vibe Coding](https://www.nucamp.co/blog/vibe-coding-the-future-of-vibe-coding-how-aidriven-development-could-transform-programming-by-2030?utm_source=openai)\n4. [viberondemand.com – Real World Applications of Vibe Coding](https://viberondemand.com/blogs/real-world-applications-of-vibe-coding?utm_source=openai)\n5. [bobhutchins.medium.com – Vibe Coding Trends You Can’t Ignore in 2025](https://bobhutchins.medium.com/vibe-coding-trends-you-cant-ignore-in-2025-22e9f537824a?utm_source=openai)\n6. [trickle.so – Vibe Coding vs Traditional Development](https://www.trickle.so/blog/vibe-coding-vs-traditional-development?utm_source=openai)\n7. [zapier.com – Vibe Coding Examples](https://zapier.com/blog/vibe-coding-examples/?utm_source=openai)\n8. [arsturn.com – Real World Applications of Vibe Coding Techniques](https://www.arsturn.com/blog/real-world-applications-of-vibe-coding-techniques?utm_source=openai)\n9. [ademyuce.tr – Analysis of Post-Modernist Programming Paradigm](https://ademyuce.tr/en/vibe-coding-analysis-of-a-post-modernist-programming-paradigm/?utm_source=openai)\n10. [arsturn.com – Mental Health and Vibe Coding](https://www.arsturn.com/blog/exploring-how-mental-health-plays-a-role-in-the-acceptance-of-vibe-coding?utm_source=openai)\n11. [techradar.com – Vibe Coding Considerations for Developers](https://www.techradar.com/pro/understanding-the-vibe-coding-trend-and-considerations-for-developers?utm_source=openai)\n12. [semafor.com – Vibe Coding and Intellectual Property](https://www.semafor.com/article/06/03/2025/how-vibe-coding-is-tipping-silicon-valleys-scales-of-power?utm_source=openai)\n13. [geeksforgeeks.org – What is Vibe Coding](https://www.geeksforgeeks.org/what-is-vibe-coding/?utm_source=openai)\n14. [vybes.dev – All-in-one Vibe Coding Platform](https://www.vybes.dev/?utm_source=openai)\n15. [datacamp.com – Vibe Coding Overview](https://www.datacamp.com/blog/vibe-coding?utm_source=openai)\n\n---\n\n*This report integrates findings from industry sources, scientific frameworks, and practitioner case studies to present a comprehensive overview of vibe coding’s rapid rise and far-reaching effects.*"
          },
          "metadata": {}
        }
      ]
    },
    {
      "cell_type": "code",
      "source": [
        "!pip show openai"
      ],
      "metadata": {
        "colab": {
          "base_uri": "https://localhost:8080/"
        },
        "id": "K7SQSUjlRHPG",
        "outputId": "3fc2b6bd-a606-4c32-a6e4-e4a282c56dda"
      },
      "execution_count": 33,
      "outputs": [
        {
          "output_type": "stream",
          "name": "stdout",
          "text": [
            "Name: openai\n",
            "Version: 1.97.1\n",
            "Summary: The official Python library for the openai API\n",
            "Home-page: https://github.com/openai/openai-python\n",
            "Author: \n",
            "Author-email: OpenAI <support@openai.com>\n",
            "License: Apache-2.0\n",
            "Location: /usr/local/lib/python3.11/dist-packages\n",
            "Requires: anyio, distro, httpx, jiter, pydantic, sniffio, tqdm, typing-extensions\n",
            "Required-by: \n"
          ]
        }
      ]
    },
    {
      "cell_type": "code",
      "source": [],
      "metadata": {
        "id": "wYdNo0VORjeq"
      },
      "execution_count": null,
      "outputs": []
    }
  ]
}